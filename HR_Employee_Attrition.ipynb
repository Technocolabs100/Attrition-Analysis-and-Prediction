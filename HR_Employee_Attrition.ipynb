{
 "cells": [
  {
   "cell_type": "code",
   "execution_count": 2,
   "id": "fceac472-a83d-40e7-82dd-768654769e7c",
   "metadata": {},
   "outputs": [],
   "source": [
    "import pandas as pd"
   ]
  },
  {
   "cell_type": "code",
   "execution_count": 8,
   "id": "91367677-af01-4ae7-ad3c-1841f4ec07d1",
   "metadata": {},
   "outputs": [],
   "source": [
    "df = pd.read_csv('HREmployee.csv')"
   ]
  },
  {
   "cell_type": "code",
   "execution_count": 9,
   "id": "61db6852-a182-47c3-b82d-29c96c423a83",
   "metadata": {},
   "outputs": [
    {
     "name": "stdout",
     "output_type": "stream",
     "text": [
      "(1470, 35)\n"
     ]
    }
   ],
   "source": [
    "print(df.shape)"
   ]
  },
  {
   "cell_type": "code",
   "execution_count": 10,
   "id": "a4ab6ae5-5130-4d86-abe0-6ea1d5404947",
   "metadata": {},
   "outputs": [
    {
     "name": "stdout",
     "output_type": "stream",
     "text": [
      "Index(['Age', 'Attrition', 'BusinessTravel', 'DailyRate', 'Department',\n",
      "       'DistanceFromHome', 'Education', 'EducationField', 'EmployeeCount',\n",
      "       'EmployeeNumber', 'EnvironmentSatisfaction', 'Gender', 'HourlyRate',\n",
      "       'JobInvolvement', 'JobLevel', 'JobRole', 'JobSatisfaction',\n",
      "       'MaritalStatus', 'MonthlyIncome', 'MonthlyRate', 'NumCompaniesWorked',\n",
      "       'Over18', 'OverTime', 'PercentSalaryHike', 'PerformanceRating',\n",
      "       'RelationshipSatisfaction', 'StandardHours', 'StockOptionLevel',\n",
      "       'TotalWorkingYears', 'TrainingTimesLastYear', 'WorkLifeBalance',\n",
      "       'YearsAtCompany', 'YearsInCurrentRole', 'YearsSinceLastPromotion',\n",
      "       'YearsWithCurrManager'],\n",
      "      dtype='object')\n"
     ]
    }
   ],
   "source": [
    "print(df.columns)"
   ]
  },
  {
   "cell_type": "code",
   "execution_count": 22,
   "id": "00110dc8-a658-471f-9479-57b05635fca3",
   "metadata": {},
   "outputs": [
    {
     "name": "stdout",
     "output_type": "stream",
     "text": [
      "<bound method NDFrame.head of       Age Attrition     BusinessTravel  DailyRate              Department  \\\n",
      "0      41       Yes      Travel_Rarely       1102                   Sales   \n",
      "1      49        No  Travel_Frequently        279  Research & Development   \n",
      "2      37       Yes      Travel_Rarely       1373  Research & Development   \n",
      "3      33        No  Travel_Frequently       1392  Research & Development   \n",
      "4      27        No      Travel_Rarely        591  Research & Development   \n",
      "...   ...       ...                ...        ...                     ...   \n",
      "1465   36        No  Travel_Frequently        884  Research & Development   \n",
      "1466   39        No      Travel_Rarely        613  Research & Development   \n",
      "1467   27        No      Travel_Rarely        155  Research & Development   \n",
      "1468   49        No  Travel_Frequently       1023                   Sales   \n",
      "1469   34        No      Travel_Rarely        628  Research & Development   \n",
      "\n",
      "      DistanceFromHome  Education EducationField  EmployeeCount  \\\n",
      "0                    1          2  Life Sciences              1   \n",
      "1                    8          1  Life Sciences              1   \n",
      "2                    2          2          Other              1   \n",
      "3                    3          4  Life Sciences              1   \n",
      "4                    2          1        Medical              1   \n",
      "...                ...        ...            ...            ...   \n",
      "1465                23          2        Medical              1   \n",
      "1466                 6          1        Medical              1   \n",
      "1467                 4          3  Life Sciences              1   \n",
      "1468                 2          3        Medical              1   \n",
      "1469                 8          3        Medical              1   \n",
      "\n",
      "      EmployeeNumber  ...  RelationshipSatisfaction StandardHours  \\\n",
      "0                  1  ...                         1            80   \n",
      "1                  2  ...                         4            80   \n",
      "2                  4  ...                         2            80   \n",
      "3                  5  ...                         3            80   \n",
      "4                  7  ...                         4            80   \n",
      "...              ...  ...                       ...           ...   \n",
      "1465            2061  ...                         3            80   \n",
      "1466            2062  ...                         1            80   \n",
      "1467            2064  ...                         2            80   \n",
      "1468            2065  ...                         4            80   \n",
      "1469            2068  ...                         1            80   \n",
      "\n",
      "      StockOptionLevel  TotalWorkingYears  TrainingTimesLastYear  \\\n",
      "0                    0                  8                      0   \n",
      "1                    1                 10                      3   \n",
      "2                    0                  7                      3   \n",
      "3                    0                  8                      3   \n",
      "4                    1                  6                      3   \n",
      "...                ...                ...                    ...   \n",
      "1465                 1                 17                      3   \n",
      "1466                 1                  9                      5   \n",
      "1467                 1                  6                      0   \n",
      "1468                 0                 17                      3   \n",
      "1469                 0                  6                      3   \n",
      "\n",
      "     WorkLifeBalance  YearsAtCompany YearsInCurrentRole  \\\n",
      "0                  1               6                  4   \n",
      "1                  3              10                  7   \n",
      "2                  3               0                  0   \n",
      "3                  3               8                  7   \n",
      "4                  3               2                  2   \n",
      "...              ...             ...                ...   \n",
      "1465               3               5                  2   \n",
      "1466               3               7                  7   \n",
      "1467               3               6                  2   \n",
      "1468               2               9                  6   \n",
      "1469               4               4                  3   \n",
      "\n",
      "      YearsSinceLastPromotion  YearsWithCurrManager  \n",
      "0                           0                     5  \n",
      "1                           1                     7  \n",
      "2                           0                     0  \n",
      "3                           3                     0  \n",
      "4                           2                     2  \n",
      "...                       ...                   ...  \n",
      "1465                        0                     3  \n",
      "1466                        1                     7  \n",
      "1467                        0                     3  \n",
      "1468                        0                     8  \n",
      "1469                        1                     2  \n",
      "\n",
      "[1470 rows x 35 columns]>\n"
     ]
    }
   ],
   "source": [
    "print(df.head)"
   ]
  },
  {
   "cell_type": "code",
   "execution_count": 11,
   "id": "da8ecb7e-18a4-4594-810f-fb008b2b4947",
   "metadata": {},
   "outputs": [
    {
     "name": "stdout",
     "output_type": "stream",
     "text": [
      "Age                          int64\n",
      "Attrition                   object\n",
      "BusinessTravel              object\n",
      "DailyRate                    int64\n",
      "Department                  object\n",
      "DistanceFromHome             int64\n",
      "Education                    int64\n",
      "EducationField              object\n",
      "EmployeeCount                int64\n",
      "EmployeeNumber               int64\n",
      "EnvironmentSatisfaction      int64\n",
      "Gender                      object\n",
      "HourlyRate                   int64\n",
      "JobInvolvement               int64\n",
      "JobLevel                     int64\n",
      "JobRole                     object\n",
      "JobSatisfaction              int64\n",
      "MaritalStatus               object\n",
      "MonthlyIncome                int64\n",
      "MonthlyRate                  int64\n",
      "NumCompaniesWorked           int64\n",
      "Over18                      object\n",
      "OverTime                    object\n",
      "PercentSalaryHike            int64\n",
      "PerformanceRating            int64\n",
      "RelationshipSatisfaction     int64\n",
      "StandardHours                int64\n",
      "StockOptionLevel             int64\n",
      "TotalWorkingYears            int64\n",
      "TrainingTimesLastYear        int64\n",
      "WorkLifeBalance              int64\n",
      "YearsAtCompany               int64\n",
      "YearsInCurrentRole           int64\n",
      "YearsSinceLastPromotion      int64\n",
      "YearsWithCurrManager         int64\n",
      "dtype: object\n"
     ]
    }
   ],
   "source": [
    "print(df.dtypes)"
   ]
  },
  {
   "cell_type": "code",
   "execution_count": 14,
   "id": "1078344c-6fca-4f94-9e7f-510813d9c951",
   "metadata": {},
   "outputs": [
    {
     "name": "stdout",
     "output_type": "stream",
     "text": [
      "Age                         0\n",
      "Attrition                   0\n",
      "BusinessTravel              0\n",
      "DailyRate                   0\n",
      "Department                  0\n",
      "DistanceFromHome            0\n",
      "Education                   0\n",
      "EducationField              0\n",
      "EmployeeCount               0\n",
      "EmployeeNumber              0\n",
      "EnvironmentSatisfaction     0\n",
      "Gender                      0\n",
      "HourlyRate                  0\n",
      "JobInvolvement              0\n",
      "JobLevel                    0\n",
      "JobRole                     0\n",
      "JobSatisfaction             0\n",
      "MaritalStatus               0\n",
      "MonthlyIncome               0\n",
      "MonthlyRate                 0\n",
      "NumCompaniesWorked          0\n",
      "Over18                      0\n",
      "OverTime                    0\n",
      "PercentSalaryHike           0\n",
      "PerformanceRating           0\n",
      "RelationshipSatisfaction    0\n",
      "StandardHours               0\n",
      "StockOptionLevel            0\n",
      "TotalWorkingYears           0\n",
      "TrainingTimesLastYear       0\n",
      "WorkLifeBalance             0\n",
      "YearsAtCompany              0\n",
      "YearsInCurrentRole          0\n",
      "YearsSinceLastPromotion     0\n",
      "YearsWithCurrManager        0\n",
      "dtype: int64\n"
     ]
    }
   ],
   "source": [
    "print(df.isnull().sum())"
   ]
  },
  {
   "cell_type": "code",
   "execution_count": 15,
   "id": "be0aa8eb-ce53-44c3-b547-92b905f78b74",
   "metadata": {},
   "outputs": [
    {
     "name": "stdout",
     "output_type": "stream",
     "text": [
      "<bound method NDFrame.describe of       Age Attrition     BusinessTravel  DailyRate              Department  \\\n",
      "0      41       Yes      Travel_Rarely       1102                   Sales   \n",
      "1      49        No  Travel_Frequently        279  Research & Development   \n",
      "2      37       Yes      Travel_Rarely       1373  Research & Development   \n",
      "3      33        No  Travel_Frequently       1392  Research & Development   \n",
      "4      27        No      Travel_Rarely        591  Research & Development   \n",
      "...   ...       ...                ...        ...                     ...   \n",
      "1465   36        No  Travel_Frequently        884  Research & Development   \n",
      "1466   39        No      Travel_Rarely        613  Research & Development   \n",
      "1467   27        No      Travel_Rarely        155  Research & Development   \n",
      "1468   49        No  Travel_Frequently       1023                   Sales   \n",
      "1469   34        No      Travel_Rarely        628  Research & Development   \n",
      "\n",
      "      DistanceFromHome  Education EducationField  EmployeeCount  \\\n",
      "0                    1          2  Life Sciences              1   \n",
      "1                    8          1  Life Sciences              1   \n",
      "2                    2          2          Other              1   \n",
      "3                    3          4  Life Sciences              1   \n",
      "4                    2          1        Medical              1   \n",
      "...                ...        ...            ...            ...   \n",
      "1465                23          2        Medical              1   \n",
      "1466                 6          1        Medical              1   \n",
      "1467                 4          3  Life Sciences              1   \n",
      "1468                 2          3        Medical              1   \n",
      "1469                 8          3        Medical              1   \n",
      "\n",
      "      EmployeeNumber  ...  RelationshipSatisfaction StandardHours  \\\n",
      "0                  1  ...                         1            80   \n",
      "1                  2  ...                         4            80   \n",
      "2                  4  ...                         2            80   \n",
      "3                  5  ...                         3            80   \n",
      "4                  7  ...                         4            80   \n",
      "...              ...  ...                       ...           ...   \n",
      "1465            2061  ...                         3            80   \n",
      "1466            2062  ...                         1            80   \n",
      "1467            2064  ...                         2            80   \n",
      "1468            2065  ...                         4            80   \n",
      "1469            2068  ...                         1            80   \n",
      "\n",
      "      StockOptionLevel  TotalWorkingYears  TrainingTimesLastYear  \\\n",
      "0                    0                  8                      0   \n",
      "1                    1                 10                      3   \n",
      "2                    0                  7                      3   \n",
      "3                    0                  8                      3   \n",
      "4                    1                  6                      3   \n",
      "...                ...                ...                    ...   \n",
      "1465                 1                 17                      3   \n",
      "1466                 1                  9                      5   \n",
      "1467                 1                  6                      0   \n",
      "1468                 0                 17                      3   \n",
      "1469                 0                  6                      3   \n",
      "\n",
      "     WorkLifeBalance  YearsAtCompany YearsInCurrentRole  \\\n",
      "0                  1               6                  4   \n",
      "1                  3              10                  7   \n",
      "2                  3               0                  0   \n",
      "3                  3               8                  7   \n",
      "4                  3               2                  2   \n",
      "...              ...             ...                ...   \n",
      "1465               3               5                  2   \n",
      "1466               3               7                  7   \n",
      "1467               3               6                  2   \n",
      "1468               2               9                  6   \n",
      "1469               4               4                  3   \n",
      "\n",
      "      YearsSinceLastPromotion  YearsWithCurrManager  \n",
      "0                           0                     5  \n",
      "1                           1                     7  \n",
      "2                           0                     0  \n",
      "3                           3                     0  \n",
      "4                           2                     2  \n",
      "...                       ...                   ...  \n",
      "1465                        0                     3  \n",
      "1466                        1                     7  \n",
      "1467                        0                     3  \n",
      "1468                        0                     8  \n",
      "1469                        1                     2  \n",
      "\n",
      "[1470 rows x 35 columns]>\n"
     ]
    }
   ],
   "source": [
    "print(df.describe)"
   ]
  },
  {
   "cell_type": "code",
   "execution_count": 16,
   "id": "0c90ad3e-b295-4f1c-aed0-f78c3bf7d2ca",
   "metadata": {},
   "outputs": [],
   "source": [
    "import matplotlib.pyplot as plt"
   ]
  },
  {
   "cell_type": "code",
   "execution_count": 17,
   "id": "1e875a4b-aad9-4682-bafb-010f5ba63934",
   "metadata": {},
   "outputs": [
    {
     "data": {
      "image/png": "[encoded data removed]",
      "text/plain": [
       "<Figure size 432x288 with 1 Axes>"
      ]
     },
     "metadata": {
      "needs_background": "light"
     },
     "output_type": "display_data"
    }
   ],
   "source": [
    "df['Age'].hist()  # Plot a histogram for the 'Age' column\n",
    "plt.show()"
   ]
  },
  {
   "cell_type": "code",
   "execution_count": 18,
   "id": "c0ab216e-964a-4cc1-ab8d-0e2d50ddc424",
   "metadata": {},
   "outputs": [
    {
     "name": "stdout",
     "output_type": "stream",
     "text": [
      "Male      882\n",
      "Female    588\n",
      "Name: Gender, dtype: int64\n"
     ]
    }
   ],
   "source": [
    "print(df['Gender'].value_counts())"
   ]
  },
  {
   "cell_type": "code",
   "execution_count": 19,
   "id": "92636bee-1c0b-4bee-8383-aa9f405a6876",
   "metadata": {},
   "outputs": [],
   "source": [
    "df = df.dropna(subset=['EmployeeNumber', 'Age', 'Attrition'])"
   ]
  },
  {
   "cell_type": "code",
   "execution_count": 20,
   "id": "0d988fc3-2a41-45af-9275-ccb2e9fa2d06",
   "metadata": {},
   "outputs": [
    {
     "name": "stdout",
     "output_type": "stream",
     "text": [
      "(1470, 35)\n"
     ]
    }
   ],
   "source": [
    "print(df.shape)"
   ]
  },
  {
   "cell_type": "code",
   "execution_count": 23,
   "id": "6c6aae43-92d5-471b-ab2b-ed85dc9303c6",
   "metadata": {},
   "outputs": [
    {
     "name": "stdout",
     "output_type": "stream",
     "text": [
      "Age                         0\n",
      "Attrition                   0\n",
      "BusinessTravel              0\n",
      "DailyRate                   0\n",
      "Department                  0\n",
      "DistanceFromHome            0\n",
      "Education                   0\n",
      "EducationField              0\n",
      "EmployeeCount               0\n",
      "EmployeeNumber              0\n",
      "EnvironmentSatisfaction     0\n",
      "Gender                      0\n",
      "HourlyRate                  0\n",
      "JobInvolvement              0\n",
      "JobLevel                    0\n",
      "JobRole                     0\n",
      "JobSatisfaction             0\n",
      "MaritalStatus               0\n",
      "MonthlyIncome               0\n",
      "MonthlyRate                 0\n",
      "NumCompaniesWorked          0\n",
      "Over18                      0\n",
      "OverTime                    0\n",
      "PercentSalaryHike           0\n",
      "PerformanceRating           0\n",
      "RelationshipSatisfaction    0\n",
      "StandardHours               0\n",
      "StockOptionLevel            0\n",
      "TotalWorkingYears           0\n",
      "TrainingTimesLastYear       0\n",
      "WorkLifeBalance             0\n",
      "YearsAtCompany              0\n",
      "YearsInCurrentRole          0\n",
      "YearsSinceLastPromotion     0\n",
      "YearsWithCurrManager        0\n",
      "dtype: int64\n"
     ]
    }
   ],
   "source": [
    "print(df.isnull().sum())"
   ]
  },
  {
   "cell_type": "code",
   "execution_count": 24,
   "id": "c5efa2d0-e63d-42d0-8a68-c0c64cf9ff23",
   "metadata": {},
   "outputs": [
    {
     "name": "stdout",
     "output_type": "stream",
     "text": [
      "0       False\n",
      "1       False\n",
      "2       False\n",
      "3       False\n",
      "4       False\n",
      "        ...  \n",
      "1465    False\n",
      "1466    False\n",
      "1467    False\n",
      "1468    False\n",
      "1469    False\n",
      "Length: 1470, dtype: bool\n"
     ]
    }
   ],
   "source": [
    "print(df.duplicated())"
   ]
  },
  {
   "cell_type": "code",
   "execution_count": null,
   "id": "e51a1f57-f3dd-49b9-bd3c-9fcf8c60a769",
   "metadata": {},
   "outputs": [],
   "source": []
  }
 ],
 "metadata": {
  "kernelspec": {
   "display_name": "Python 3 [3.10]",
   "language": "python",
   "name": "python3"
  },
  "language_info": {
   "codemirror_mode": {
    "name": "ipython",
    "version": 3
   },
   "file_extension": ".py",
   "mimetype": "text/x-python",
   "name": "python",
   "nbconvert_exporter": "python",
   "pygments_lexer": "ipython3",
   "version": "3.10.2"
  }
 },
 "nbformat": 4,
 "nbformat_minor": 5
}
